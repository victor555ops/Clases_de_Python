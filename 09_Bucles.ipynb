{
  "nbformat": 4,
  "nbformat_minor": 0,
  "metadata": {
    "colab": {
      "provenance": [],
      "authorship_tag": "ABX9TyNzUf8n2R0eIOKHSJr6tKPV",
      "include_colab_link": true
    },
    "kernelspec": {
      "name": "python3",
      "display_name": "Python 3"
    },
    "language_info": {
      "name": "python"
    }
  },
  "cells": [
    {
      "cell_type": "markdown",
      "metadata": {
        "id": "view-in-github",
        "colab_type": "text"
      },
      "source": [
        "<a href=\"https://colab.research.google.com/github/victor555ops/Clases_de_Python/blob/main/09_Bucles.ipynb\" target=\"_parent\"><img src=\"https://colab.research.google.com/assets/colab-badge.svg\" alt=\"Open In Colab\"/></a>"
      ]
    },
    {
      "cell_type": "code",
      "execution_count": null,
      "metadata": {
        "id": "Ouf9eBHK2mGQ"
      },
      "outputs": [],
      "source": [
        "#sintaxis\n",
        "while condition:\n",
        "  aqui va el codigo"
      ]
    },
    {
      "cell_type": "code",
      "source": [
        "count = 0\n",
        "while count < 5:\n",
        "  print(count)\n",
        "  count +=1"
      ],
      "metadata": {
        "id": "gGB0fYNs2y4W"
      },
      "execution_count": null,
      "outputs": []
    },
    {
      "cell_type": "code",
      "source": [
        "numeros = [0,1,2,3,4,5]\n",
        "for contador in numeros:\n",
        "    print(contador)"
      ],
      "metadata": {
        "id": "OLtzU4_r3dtJ"
      },
      "execution_count": null,
      "outputs": []
    },
    {
      "cell_type": "code",
      "source": [
        "languaje = {}"
      ],
      "metadata": {
        "id": "m6EW9POv4YOH"
      },
      "execution_count": null,
      "outputs": []
    }
  ]
}