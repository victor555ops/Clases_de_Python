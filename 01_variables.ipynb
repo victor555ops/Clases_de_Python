{
  "nbformat": 4,
  "nbformat_minor": 0,
  "metadata": {
    "colab": {
      "provenance": [],
      "include_colab_link": true
    },
    "kernelspec": {
      "name": "python3",
      "display_name": "Python 3"
    },
    "language_info": {
      "name": "python"
    }
  },
  "cells": [
    {
      "cell_type": "markdown",
      "metadata": {
        "id": "view-in-github",
        "colab_type": "text"
      },
      "source": [
        "<a href=\"https://colab.research.google.com/github/victor555ops/Clases_de_Python/blob/main/01_variables.ipynb\" target=\"_parent\"><img src=\"https://colab.research.google.com/assets/colab-badge.svg\" alt=\"Open In Colab\"/></a>"
      ]
    },
    {
      "cell_type": "code",
      "execution_count": null,
      "metadata": {
        "id": "1VwazfmO0Jt2"
      },
      "outputs": [],
      "source": [
        "name = \"victor Manuel\"\n",
        "user _id = 1234567\n",
        "progress = 0.5\n",
        "exp = 60\n",
        "verified = True #booleanos"
      ]
    },
    {
      "cell_type": "code",
      "source": [],
      "metadata": {
        "id": "MkSC_mpkrTDa"
      },
      "execution_count": null,
      "outputs": []
    },
    {
      "cell_type": "code",
      "source": [
        "xp = True\n",
        "xp = False\n",
        "\n",
        "print(xp)"
      ],
      "metadata": {
        "id": "Tj7MEHNF6oif"
      },
      "execution_count": null,
      "outputs": []
    },
    {
      "cell_type": "code",
      "source": [
        "year = 2023\n",
        "age = True "
      ],
      "metadata": {
        "id": "Wz8fYrma2im8"
      },
      "execution_count": null,
      "outputs": []
    },
    {
      "cell_type": "code",
      "source": [
        "message = \"saludos a todos\"\n",
        "user = 'victor Manuel'"
      ],
      "metadata": {
        "id": "I0hUdsij2gL_"
      },
      "execution_count": null,
      "outputs": []
    },
    {
      "cell_type": "code",
      "source": [
        "#esto es un comentario en nuestro codigo\n",
        "\n",
        "print('hola mundo')\n",
        "\n",
        "'''\n",
        "este es un comentario de varias lineas\n",
        "se pone usando dos pares con comillas dobles\n",
        "\n",
        "'''"
      ],
      "metadata": {
        "id": "Kkg4Ub_S2kj0"
      },
      "execution_count": null,
      "outputs": []
    },
    {
      "cell_type": "code",
      "source": [
        "print(name, age, verified)"
      ],
      "metadata": {
        "id": "WkENi8TJ3XST"
      },
      "execution_count": null,
      "outputs": []
    },
    {
      "cell_type": "code",
      "source": [
        "print(\"este es un texto: \", verified)"
      ],
      "metadata": {
        "id": "BoM9q2sF3gDF"
      },
      "execution_count": null,
      "outputs": []
    },
    {
      "cell_type": "code",
      "source": [
        "print(type(\"hola mundo\")\n",
        "print(type(5))\n",
        "print(type(1.5))\n",
        "print(type(True))\n",
        "print(type(3 + 1))\n",
        "print(type([1, 2, 3]))\n",
        "print(type(name: 'Victor Manuel'"
      ],
      "metadata": {
        "id": "E1nh5w9k3oh5"
      },
      "execution_count": null,
      "outputs": []
    },
    {
      "cell_type": "code",
      "source": [
        "name, surname, alias, age  = \"Victor\", \"Manuel\", \"spy\", 23\n",
        "\n",
        "print(\"me llamo:\", name, surname)\n",
        "print(\"mi edad es:\", age, \",mis amigos me dicen: \", alias)"
      ],
      "metadata": {
        "id": "ekoM2cXZ5MDT"
      },
      "execution_count": null,
      "outputs": []
    },
    {
      "cell_type": "code",
      "source": [
        "first_name = (input('¿como te llamas?',🤮 )) "
      ],
      "metadata": {
        "id": "Al4nIcT5-VLr"
      },
      "execution_count": null,
      "outputs": []
    },
    {
      "cell_type": "markdown",
      "source": [
        "BUENAS PRAXIS\n",
        "\n",
        "\n",
        "\n",
        "*  Escribir todo en minusculas\n",
        "*   no usar numeros y caracteres especiales \n",
        "*   si se compone de dos palabras usar guin bajo\n",
        "\n",
        "\n",
        "\n"
      ],
      "metadata": {
        "id": "IsyYsPq161hC"
      }
    },
    {
      "cell_type": "markdown",
      "source": [
        "FUNCIONES DEL SISTEMA\n",
        "\n",
        "print()=imprime en pantalla\n",
        "Type()=nos da el tipo de dato a trabajar\n",
        "len()=\n",
        "str()="
      ],
      "metadata": {
        "id": "6CnQXYxg-1zq"
      }
    },
    {
      "cell_type": "code",
      "source": [
        "my_int_variable = 4\n",
        "print(my_int_variable)\n",
        "print(type(my_int_variable))\n",
        "\n",
        "new_variable =str(my_int_variable)\n",
        "print(type(new_variable))"
      ],
      "metadata": {
        "id": "LtkSCMqG_JSr"
      },
      "execution_count": null,
      "outputs": []
    }
  ]
}