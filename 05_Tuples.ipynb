{
  "nbformat": 4,
  "nbformat_minor": 0,
  "metadata": {
    "colab": {
      "provenance": [],
      "authorship_tag": "ABX9TyON+CSZrVIGKYergwFBvSEJ",
      "include_colab_link": true
    },
    "kernelspec": {
      "name": "python3",
      "display_name": "Python 3"
    },
    "language_info": {
      "name": "python"
    }
  },
  "cells": [
    {
      "cell_type": "markdown",
      "metadata": {
        "id": "view-in-github",
        "colab_type": "text"
      },
      "source": [
        "<a href=\"https://colab.research.google.com/github/victor555ops/Clases_de_Python/blob/main/05_Tuples.ipynb\" target=\"_parent\"><img src=\"https://colab.research.google.com/assets/colab-badge.svg\" alt=\"Open In Colab\"/></a>"
      ]
    },
    {
      "cell_type": "markdown",
      "source": [
        "diferencias de una tuple y lista\n",
        "nombre y enlazador"
      ],
      "metadata": {
        "id": "ZhLMcMoDe5KX"
      }
    },
    {
      "cell_type": "code",
      "execution_count": null,
      "metadata": {
        "id": "dt3DnwwretLo"
      },
      "outputs": [],
      "source": [
        "my_tuple = tuple()\n",
        "other_tuple= ()"
      ]
    },
    {
      "cell_type": "code",
      "source": [
        "my_tuple = (1, 2.4, 3, 'victor', 'manuel', 'bautista', 'victor')\n",
        "print(my_tuple)\n",
        "print(type(my_tuple))"
      ],
      "metadata": {
        "id": "9u8uUX-1fDCx"
      },
      "execution_count": null,
      "outputs": []
    },
    {
      "cell_type": "code",
      "source": [
        "print(my_tuple[0])\n",
        "print(my_tuple[-1])"
      ],
      "metadata": {
        "id": "xnylPN5KfOrm"
      },
      "execution_count": null,
      "outputs": []
    },
    {
      "cell_type": "code",
      "source": [
        "tpl1 = ('item1', 'item2', 'item3')\n",
        "tpl2 = ('item4', 'item5', 'item6')\n",
        "tpl3 = tpl1 + tpl2\n",
        "print(tpl3)"
      ],
      "metadata": {
        "id": "lR0BG9DHfVv6"
      },
      "execution_count": null,
      "outputs": []
    }
  ]
}