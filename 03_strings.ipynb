{
  "nbformat": 4,
  "nbformat_minor": 0,
  "metadata": {
    "colab": {
      "provenance": [],
      "authorship_tag": "ABX9TyOIsCtrlK1c14wPcuHqUC19",
      "include_colab_link": true
    },
    "kernelspec": {
      "name": "python3",
      "display_name": "Python 3"
    },
    "language_info": {
      "name": "python"
    }
  },
  "cells": [
    {
      "cell_type": "markdown",
      "metadata": {
        "id": "view-in-github",
        "colab_type": "text"
      },
      "source": [
        "<a href=\"https://colab.research.google.com/github/victor555ops/Clases_de_Python/blob/main/03_strings.ipynb\" target=\"_parent\"><img src=\"https://colab.research.google.com/assets/colab-badge.svg\" alt=\"Open In Colab\"/></a>"
      ]
    },
    {
      "cell_type": "code",
      "execution_count": null,
      "metadata": {
        "id": "mP7HswECb7f4"
      },
      "outputs": [],
      "source": [
        "letra = 'p'                           #una sola letra puede considerarse un string\n",
        "print(letra)                              \n",
        "print(len(letra))                     #Podemos calculas su tamaño\n",
        "saludo = 'Hello, world!'              \n",
        "print(len(saludo))                    #13\n",
        "oracion = 'hola pa'\n",
        "print(len(oracion))\n",
        "print(type(letra))\n",
        "print(type(saludo))\n",
        "print(type(oracion))"
      ]
    },
    {
      "cell_type": "code",
      "source": [
        "multilinea = ''' pac man original mente se llamba puck man\n",
        "esto balmkcsjk'''\n",
        "\n",
        "#otra forma \n",
        "\n",
        "multilinea = \"\"\"pac man original mente se llamba puck man\n",
        "esto balmkcsjk\"\"\"\n",
        "print(multilinea)"
      ],
      "metadata": {
        "id": "cI1ybpx6cJKN"
      },
      "execution_count": null,
      "outputs": []
    },
    {
      "cell_type": "code",
      "source": [
        "print('Ejemplo de salto de linea. \\n¿Observas?')\n",
        "print('Día\\tTemas\\tEjercicios')\n",
        "print('Día 1\\t3\\t5')\n",
        "print('Este es un simbolo de back slash (\\)')\n",
        "print('Hola mundo \\\"hello, world\\\"')"
      ],
      "metadata": {
        "id": "UYLwTvibcNSY"
      },
      "execution_count": null,
      "outputs": []
    },
    {
      "cell_type": "code",
      "source": [
        "name, surname, alias, age = 'victor', 'bautista', 'spy', '19'\n",
        "print('me llamo: ', name, surname)\n",
        "print('mi edad es:', age, 'mis amigos me dicen: ', alias)\n",
        "print('hola me llamo {}{} mi edad es {}'.format(name,surname,age))\n",
        "print('hola me llamo %s %s mi edad es: %s'%(name, surname, age))\n",
        "print(f'Hola me llamo {name} {surname} y mi edad es: {age}')      #Esta es la mejor forma al escribir las variables en un string"
      ],
      "metadata": {
        "id": "acNRcUiBcRD9"
      },
      "execution_count": null,
      "outputs": []
    },
    {
      "cell_type": "code",
      "source": [
        "lenguaje = 'Python'\n",
        "a,b,c,d,e,f = lenguaje\n",
        "print(a)\n",
        "print(b)\n",
        "print(c)\n",
        "print(d)\n",
        "print(e)\n",
        "print(f)"
      ],
      "metadata": {
        "id": "zUjWzU2icb-7"
      },
      "execution_count": null,
      "outputs": []
    },
    {
      "cell_type": "code",
      "source": [
        "primer_letra = lenguaje[0]\n",
        "segunda_letra = lenguaje[1]\n",
        "tercer_letra = lenguaje[2]\n",
        "print(primer_letra)\n",
        "print(segunda_letra)\n",
        "print(tercer_letra)\n",
        "print(lenguaje[3]"
      ],
      "metadata": {
        "id": "oqli03u5ciK4"
      },
      "execution_count": null,
      "outputs": []
    },
    {
      "cell_type": "code",
      "source": [
        "lenguaje = 'Python'             \n",
        "primeros_tres = lenguaje[0:3]\n",
        "print(primeros_tres)\n",
        "ultimos_tres = lenguaje[3:]\n",
        "print(ultimos_tres)\n",
        "\n",
        "#otra forma en python\n",
        "ultimos_tres = lenguaje[-3:]\n",
        "print(ultimos_tres)\n",
        "ultimos_tres = lenguaje[:-3]\n",
        "print(ultimos_tres)"
      ],
      "metadata": {
        "id": "KZzS0huhclDq"
      },
      "execution_count": null,
      "outputs": []
    },
    {
      "cell_type": "code",
      "source": [
        "saludo = 'Hello, world!'\n",
        "print(saludo[::-1])"
      ],
      "metadata": {
        "id": "rytb4nq6coup"
      },
      "execution_count": null,
      "outputs": []
    },
    {
      "cell_type": "code",
      "source": [
        "lenguaje = 'Python'\n",
        "new = lenguaje[0:6:2]\n",
        "print(new)"
      ],
      "metadata": {
        "id": "likh9D0Nc0N_"
      },
      "execution_count": null,
      "outputs": []
    },
    {
      "cell_type": "code",
      "source": [
        "text = 'spy'\n",
        "print(text.capitalize())"
      ],
      "metadata": {
        "id": "ichAwFN1c5Ml"
      },
      "execution_count": null,
      "outputs": []
    },
    {
      "cell_type": "code",
      "source": [
        " = 'aprendiendo python en clase'\n",
        "print(text.count('a'))\n",
        "print(text.count('y', 7, 14))\n",
        "print(text.count('en'))"
      ],
      "metadata": {
        "id": "zQCQEZY4c9si"
      },
      "execution_count": null,
      "outputs": []
    },
    {
      "cell_type": "code",
      "source": [
        "text = 'aprendiendo python en clase'\n",
        "print(text.find('y'))\n",
        "print(text.find('th'))\n",
        "print(text.find('tl'))"
      ],
      "metadata": {
        "id": "4NSXantudFic"
      },
      "execution_count": null,
      "outputs": []
    },
    {
      "cell_type": "code",
      "source": [
        "variable  = input('Ingresa una palabra: ')\n",
        "print(variable[::-1])"
      ],
      "metadata": {
        "id": "-DS58h0_dNJ5"
      },
      "execution_count": null,
      "outputs": []
    }
  ]
}