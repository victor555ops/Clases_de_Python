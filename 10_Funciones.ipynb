{
  "nbformat": 4,
  "nbformat_minor": 0,
  "metadata": {
    "colab": {
      "provenance": [],
      "authorship_tag": "ABX9TyOylnIDt4tcLkfOHMqZOxZa",
      "include_colab_link": true
    },
    "kernelspec": {
      "name": "python3",
      "display_name": "Python 3"
    },
    "language_info": {
      "name": "python"
    }
  },
  "cells": [
    {
      "cell_type": "markdown",
      "metadata": {
        "id": "view-in-github",
        "colab_type": "text"
      },
      "source": [
        "<a href=\"https://colab.research.google.com/github/victor555ops/Clases_de_Python/blob/main/10_Funciones.ipynb\" target=\"_parent\"><img src=\"https://colab.research.google.com/assets/colab-badge.svg\" alt=\"Open In Colab\"/></a>"
      ]
    },
    {
      "cell_type": "code",
      "execution_count": null,
      "metadata": {
        "id": "kMPhTx-B6Vgy"
      },
      "outputs": [],
      "source": [
        "#sintaxis\n",
        "def function_name ():\n",
        "  code \n",
        "  code "
      ]
    },
    {
      "cell_type": "markdown",
      "source": [
        "FUNCIONES SIN PARAMETROS"
      ],
      "metadata": {
        "id": "k4b_F-QV6o4C"
      }
    },
    {
      "cell_type": "code",
      "source": [
        "def adicion():\n",
        "  a = 2\n",
        "  b = 3\n",
        "  total = a +  b\n",
        "  print(total)\n",
        "\n",
        "  adicion()"
      ],
      "metadata": {
        "id": "IUMWZJ8S6sL4"
      },
      "execution_count": null,
      "outputs": []
    },
    {
      "cell_type": "markdown",
      "source": [
        "RETORNAR VALORES DE UNA FUNCION \n",
        "usamos la palabra return, seguida de la variable que vamos a retornar"
      ],
      "metadata": {
        "id": "kFd6Ac7D7MsK"
      }
    },
    {
      "cell_type": "code",
      "source": [
        "def adicion():\n",
        "  a = 2\n",
        "  b = 3\n",
        "  total = a +  b\n",
        "  return total "
      ],
      "metadata": {
        "id": "MwO6ZT4J7Kmn"
      },
      "execution_count": null,
      "outputs": []
    },
    {
      "cell_type": "markdown",
      "source": [
        "FUNCIONES CON PARAMETROS "
      ],
      "metadata": {
        "id": "FhcPAL8r8PDL"
      }
    },
    {
      "cell_type": "code",
      "source": [
        "def adicion (a,b):\n",
        "  total = a+b\n",
        "  return total"
      ],
      "metadata": {
        "id": "PAAOhwFb8D5u"
      },
      "execution_count": null,
      "outputs": []
    },
    {
      "cell_type": "code",
      "source": [
        "print(adicion(1,2))"
      ],
      "metadata": {
        "id": "glowww638dwk"
      },
      "execution_count": null,
      "outputs": []
    },
    {
      "cell_type": "markdown",
      "source": [
        "argumentos de tipo key:value"
      ],
      "metadata": {
        "id": "jZEroJEe8rV0"
      }
    },
    {
      "cell_type": "code",
      "source": [
        "def person_info(name, lastname, career):\n",
        "  print(f'hola{name} {lastname},Gracias por escoger la carrera de {career}. comencemos con la seleccion')\n",
        "  print(person_info(name='victor', lastname='bautista'))"
      ],
      "metadata": {
        "id": "NjeWpmL58zOF"
      },
      "execution_count": null,
      "outputs": []
    },
    {
      "cell_type": "code",
      "source": [
        "def is_pair(n):\n",
        "  if n%2 == 0\n",
        "  return True \n",
        "  return False \n",
        "\n",
        "print(is_pair(8))\n",
        "print(is_pair(5))\n"
      ],
      "metadata": {
        "id": "-avV1zyp-JVx"
      },
      "execution_count": null,
      "outputs": []
    },
    {
      "cell_type": "code",
      "source": [
        "#listas\n",
        "def find_pair(n):\n",
        "  pairs = []\n",
        "  for i in range (n+1):\n",
        "   if i%2 == 0:\n",
        "     pairs.append(i)\n",
        "  return pairs\n",
        "\n",
        "print(find_pair(10))"
      ],
      "metadata": {
        "id": "wdJqo_5N-gvE"
      },
      "execution_count": null,
      "outputs": []
    }
  ]
}