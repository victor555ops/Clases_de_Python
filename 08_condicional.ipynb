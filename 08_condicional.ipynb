{
  "nbformat": 4,
  "nbformat_minor": 0,
  "metadata": {
    "colab": {
      "provenance": [],
      "authorship_tag": "ABX9TyONvlGk79vIahBwXXEKYL1z",
      "include_colab_link": true
    },
    "kernelspec": {
      "name": "python3",
      "display_name": "Python 3"
    },
    "language_info": {
      "name": "python"
    }
  },
  "cells": [
    {
      "cell_type": "markdown",
      "metadata": {
        "id": "view-in-github",
        "colab_type": "text"
      },
      "source": [
        "<a href=\"https://colab.research.google.com/github/victor555ops/Clases_de_Python/blob/main/08_condicional.ipynb\" target=\"_parent\"><img src=\"https://colab.research.google.com/assets/colab-badge.svg\" alt=\"Open In Colab\"/></a>"
      ]
    },
    {
      "cell_type": "code",
      "execution_count": null,
      "metadata": {
        "id": "7b5k-8S9yMi-"
      },
      "outputs": [],
      "source": [
        "#sintaxis\n",
        "if condition:\n",
        "  aqui pones lo que ocuure si se cumple \n",
        "  else:\n",
        "    aqui pones lo que ocurre si no se cumple"
      ]
    },
    {
      "cell_type": "code",
      "source": [
        "numero=int(input(\"ingrese un numero\"))\n",
        "\n",
        "if numero < 0:\n",
        "  print('el numero es negativo')\n",
        "  else:\n",
        "    print('el numero es negativo')\n"
      ],
      "metadata": {
        "id": "sLCrOAQHyjus"
      },
      "execution_count": null,
      "outputs": []
    },
    {
      "cell_type": "code",
      "source": [
        "numero=int(input(\"ingrese un numero\"))\n",
        "\n",
        "if numero < 0:\n",
        "    print('el numero es negativo')\n",
        "elif numero > 0:\n",
        "      print('el numero es positivo')\n",
        "else:\n",
        "       print('el numero es 0 ')\n"
      ],
      "metadata": {
        "id": "P8KwyvgDzLgA"
      },
      "execution_count": null,
      "outputs": []
    },
    {
      "cell_type": "code",
      "source": [
        "numero=int(input(\"ingrese un numero\"))\n",
        "if numero < 0:\n",
        "  if numero % 2 == 0 \n",
        "  print('el numero es positivo y par')\n",
        "else:\n",
        "    print('el numero es positivo e impar')\n",
        "\n",
        "elif numero == 0:\n",
        "    print('el numero es cero')\n",
        "    \n",
        "else:\n",
        "    print('el numero es negativo')"
      ],
      "metadata": {
        "id": "-KQLngE7z9YR"
      },
      "execution_count": null,
      "outputs": []
    },
    {
      "cell_type": "code",
      "source": [
        "numero=int(input(\"ingrese un numero\"))\n",
        "if numero > 0 and numero % 2 == 0: #&&\n",
        "        print('el numero es entero y par')\n",
        "\n",
        "elif numero > 0 and numero % 2!=0:\n",
        "          print('el numrero es positivo e impar')\n",
        "    \n",
        "elif numero == 0:\n",
        "    print('el numero es cero')\n",
        "else:\n",
        "    print('el numero es negativo')"
      ],
      "metadata": {
        "id": "08Mv_Zx00x2H"
      },
      "execution_count": null,
      "outputs": []
    },
    {
      "cell_type": "code",
      "source": [
        "user = 'admin'\n",
        "access_level = 1\n",
        "if user == 'admin' or access_level >= 4:\n",
        "          print('acceso concedido')\n",
        "else: \n",
        "        print('acceso denegado')"
      ],
      "metadata": {
        "id": "IkXekaBa1r4X"
      },
      "execution_count": null,
      "outputs": []
    }
  ]
}