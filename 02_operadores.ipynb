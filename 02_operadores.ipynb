{
  "nbformat": 4,
  "nbformat_minor": 0,
  "metadata": {
    "colab": {
      "provenance": [],
      "authorship_tag": "ABX9TyPPvFR32aE3Tck3MY98gkvv",
      "include_colab_link": true
    },
    "kernelspec": {
      "name": "python3",
      "display_name": "Python 3"
    },
    "language_info": {
      "name": "python"
    }
  },
  "cells": [
    {
      "cell_type": "markdown",
      "metadata": {
        "id": "view-in-github",
        "colab_type": "text"
      },
      "source": [
        "<a href=\"https://colab.research.google.com/github/victor555ops/Clases_de_Python/blob/main/02_operadores.ipynb\" target=\"_parent\"><img src=\"https://colab.research.google.com/assets/colab-badge.svg\" alt=\"Open In Colab\"/></a>"
      ]
    },
    {
      "cell_type": "code",
      "execution_count": null,
      "metadata": {
        "id": "eJZmMM4DZXSu"
      },
      "outputs": [],
      "source": [
        "Operadores aritmeticos\n",
        "\n",
        "print(\"Suma: \", 1+2)\n",
        "print(\"Resta: \", 6-5)\n",
        "print('Multiplicacion:', 5*6)\n",
        "print(\"Division: \", 7//2)\n",
        "print(\"Division: \", 7/2)\n",
        "print('Modulo: ', 3%2)\n",
        "print('Exponente', 2 ** 3)\n",
        "     \n",
        "Suma:  3\n",
        "Resta:  1\n",
        "Multiplicacion: 30\n",
        "Division:  3\n",
        "Division:  3.5\n",
        "Modulo:  1\n",
        "Exponente 8\n",
        "podemos unir palabras usando operadores\n",
        "\n",
        "\n",
        "print('Hola', 'Python')\n",
        "print('Hola' + 'Python')\n",
        "print('Hola' + str(5))\n",
        "print('Hola' * 5)\n",
        "     \n",
        "Hola Python\n",
        "HolaPython\n",
        "Hola5\n",
        "HolaHolaHolaHolaHola\n",
        "\n",
        "Operadores aritmeticos\n",
        "\n",
        "print(\"Suma: \", 1+2)\n",
        "print(\"Resta: \", 6-5)\n",
        "print('Multiplicacion:', 5*6)\n",
        "print(\"Division: \", 7//2)\n",
        "print(\"Division: \", 7/2)\n",
        "print('Modulo: ', 3%2)\n",
        "print('Exponente', 2 ** 3)"
      ]
    },
    {
      "cell_type": "code",
      "source": [
        "print('Hola', 'Python')\n",
        "print('Hola' + 'Python')\n",
        "print('Hola' + str(5))\n",
        "print('Hola' * 5)"
      ],
      "metadata": {
        "id": "0K2Ogh9AZ0Uy"
      },
      "execution_count": null,
      "outputs": []
    },
    {
      "cell_type": "code",
      "source": [
        "##Estas funciones facilitan\n",
        "for i in range (11):\n",
        "  print('*' * i)"
      ],
      "metadata": {
        "id": "txLKePElZ1M7"
      },
      "execution_count": null,
      "outputs": []
    },
    {
      "cell_type": "code",
      "source": [
        "pizza = 20\n",
        "refresco = 15\n",
        "compra = pizza + refresco\n",
        "propina = compra * 0.2\n",
        "total = compra + propina \n",
        "print(\"Usted debe pagar: \", compra, 'de propina ud debe', propina, 'su total es:', total)"
      ],
      "metadata": {
        "id": "hdvb8g7VZ76h"
      },
      "execution_count": null,
      "outputs": []
    },
    {
      "cell_type": "code",
      "source": [
        "x = 1\n",
        "suma = 0\n",
        "while x<=10:\n",
        "  suma += x\n",
        "  x+=1\n",
        "print(suma)"
      ],
      "metadata": {
        "id": "DNn2VCDDaCZ_"
      },
      "execution_count": null,
      "outputs": []
    },
    {
      "cell_type": "code",
      "source": [
        "print('Igual a:', 2==2)   #TRUE\n",
        "print('Igual a:', 2==2.00) #TRUE\n",
        "print('Igual a:', 2==1.9999) #FALSE"
      ],
      "metadata": {
        "id": "yGm8NzYYaHMP"
      },
      "execution_count": null,
      "outputs": []
    },
    {
      "cell_type": "code",
      "source": [
        "print(\"Distinto de:\", 2!=2) #FALSE\n",
        "print('Distinto de: ', 2!=3)  #TRUE"
      ],
      "metadata": {
        "id": "XshIMHKmaNLo"
      },
      "execution_count": null,
      "outputs": []
    },
    {
      "cell_type": "code",
      "source": [
        "print('Mayor que:', 2>3)#FALSE\n",
        "print('Menor que:', 2<3)#TRUE\n",
        "print('Mayor o igual que:', 4>=3)#TRUE\n",
        "print('Mayor o igual que:', 3>=3)#TRUE\n",
        "print(\"Menor o igual que:\", 3<=3 )#TRUE\n",
        "print(\"Menor o igual que:\", 4<=4 )#TRUE"
      ],
      "metadata": {
        "id": "DbsEF1sDaQg1"
      },
      "execution_count": null,
      "outputs": []
    },
    {
      "cell_type": "code",
      "source": [
        "print(len('mango') == len('melón'))#TRUE\n",
        "print(len('mango') != len('melón'))#FALSE\n",
        "print(len('mango') < len('melón'))#FALSE\n",
        "print(len('mango') > len('melón'))#FALSE"
      ],
      "metadata": {
        "id": "UWWmFQyWaTmq"
      },
      "execution_count": null,
      "outputs": []
    },
    {
      "cell_type": "markdown",
      "source": [
        "Operadores de comparacion con texto"
      ],
      "metadata": {
        "id": "UKrsv21LacPm"
      }
    },
    {
      "cell_type": "code",
      "source": [
        "print(\"1 is 1\", 1 is 1)                      #TRUE\n",
        "print('1 is not 2', 1 is not 2)              #TRUE\n",
        "print('A en manuel', 'A' in 'manuel')   #TRUE\n",
        "print('L en manuel', 'L' in 'manuel')   #FALSE\n",
        "print('coding' in 'coding for all')           #TRUE\n",
        "print('a in an', 'a' in 'an')                 #TRUE\n",
        "print('4 is 2 ** 2:', 4 is 2 ** 2 )           #TRUE"
      ],
      "metadata": {
        "id": "vcSFbbQsaYLj"
      },
      "execution_count": null,
      "outputs": []
    },
    {
      "cell_type": "code",
      "source": [
        "print(3 > 2 and 4 > 3)          #TRUE\n",
        "print(3 > 2 and 4 < 3)          #FALSE\n",
        "print(3 < 2 and 4 < 3)          #FALSE\n",
        "print('True and True: ', True and True)   \n",
        "\n",
        "print(3 > 2 or 4 > 3)           #TRUE\n",
        "print(3 > 2 or 4 < 3)           #FALSE\n",
        "print(3 < 2 or 4 < 3)           #FALSE\n",
        "print('True or False: ', True or False )\n",
        "\n",
        "print()"
      ],
      "metadata": {
        "id": "D0_4KC4janNU"
      },
      "execution_count": null,
      "outputs": []
    },
    {
      "cell_type": "code",
      "source": [
        "import math\n",
        "\n",
        "fahren = float(input('Ingresa grados fahrenheit: '))\n",
        "celsius = (fahren - 32)/1.8\n",
        "print('los grados celsius es: ', celsius)"
      ],
      "metadata": {
        "id": "3J73IOZnbG2P"
      },
      "execution_count": null,
      "outputs": []
    },
    {
      "cell_type": "code",
      "source": [
        "mass = float(input('Ingresa tu peso: '))\n",
        "height = float(input('Ingresa tu altura: '))\n",
        "bml = mass/pow(height, 2)\n",
        "print('Tu indice de masa corporla es: ', bml)"
      ],
      "metadata": {
        "id": "2F5QnRJjbQja"
      },
      "execution_count": null,
      "outputs": []
    }
  ]
}