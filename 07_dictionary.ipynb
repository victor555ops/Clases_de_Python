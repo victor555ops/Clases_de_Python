{
  "nbformat": 4,
  "nbformat_minor": 0,
  "metadata": {
    "colab": {
      "provenance": [],
      "authorship_tag": "ABX9TyNt6ye5y4Eq8+JxMGdu9zNE",
      "include_colab_link": true
    },
    "kernelspec": {
      "name": "python3",
      "display_name": "Python 3"
    },
    "language_info": {
      "name": "python"
    }
  },
  "cells": [
    {
      "cell_type": "markdown",
      "metadata": {
        "id": "view-in-github",
        "colab_type": "text"
      },
      "source": [
        "<a href=\"https://colab.research.google.com/github/victor555ops/Clases_de_Python/blob/main/07_dictionary.ipynb\" target=\"_parent\"><img src=\"https://colab.research.google.com/assets/colab-badge.svg\" alt=\"Open In Colab\"/></a>"
      ]
    },
    {
      "cell_type": "code",
      "execution_count": null,
      "metadata": {
        "id": "MLVp9Daui4Ln"
      },
      "outputs": [],
      "source": [
        "my_tuple = tuple()\n",
        "other_tuple = ()"
      ]
    },
    {
      "cell_type": "code",
      "source": [
        "my_tuple = (1,2.5,3, 'victor', 'manuel', 'bautista', 'victor')\n",
        "print(my_tuple)\n",
        "print(type(my_tuple))"
      ],
      "metadata": {
        "id": "S3GswYKCjQf3"
      },
      "execution_count": null,
      "outputs": []
    },
    {
      "cell_type": "code",
      "source": [
        "print(my_tuple[0])\n",
        "print(my_tuple[-1])"
      ],
      "metadata": {
        "id": "ElGlXBflkq-w"
      },
      "execution_count": null,
      "outputs": []
    },
    {
      "cell_type": "code",
      "source": [
        "print(my_tuple.count(\"bautista\"))"
      ],
      "metadata": {
        "id": "Ex_FFvhIk8Xq"
      },
      "execution_count": null,
      "outputs": []
    },
    {
      "cell_type": "code",
      "source": [
        "tpl1 = ('item1', 'item2', 'item3')\n",
        "tpl2 = ('item4', 'item5', 'item6')\n",
        "tpl3 = tpl1 + tpl2"
      ],
      "metadata": {
        "id": "yv3IGaeVlMhI"
      },
      "execution_count": null,
      "outputs": []
    },
    {
      "cell_type": "markdown",
      "source": [
        "INSERTAR VALORES EN UNA TUPLA\n",
        "\n",
        "No se puede"
      ],
      "metadata": {
        "id": "jznZ1Animnf9"
      }
    },
    {
      "cell_type": "code",
      "source": [
        "my_set = set()\n",
        "other_set = {}\n",
        "print(type(my_set))\n",
        "print(type(other_set))"
      ],
      "metadata": {
        "id": "8EjRfbgSnqT3"
      },
      "execution_count": null,
      "outputs": []
    },
    {
      "cell_type": "code",
      "source": [
        "other_set= {1,2.5,3, 'victor', 'manuel', 'bautista', 'victor'}\n",
        "print(type(other_set))"
      ],
      "metadata": {
        "colab": {
          "base_uri": "https://localhost:8080/"
        },
        "id": "VnaDT1Eqn9vl",
        "outputId": "2f0f4729-61b9-445f-e85a-8aa5fb915314"
      },
      "execution_count": null,
      "outputs": [
        {
          "output_type": "stream",
          "name": "stdout",
          "text": [
            "<class 'set'>\n"
          ]
        }
      ]
    },
    {
      "cell_type": "code",
      "source": [
        "my_set={'banana', 'mango', 'naranja', 'limon'}\n",
        "print(len(my_set))\n",
        "print(my_set)"
      ],
      "metadata": {
        "id": "p-Qwi-8WoTBo",
        "colab": {
          "base_uri": "https://localhost:8080/"
        },
        "outputId": "0d9bf45a-9631-41db-c068-fd57cf40db47"
      },
      "execution_count": null,
      "outputs": [
        {
          "output_type": "stream",
          "name": "stdout",
          "text": [
            "4\n",
            "{'banana', 'naranja', 'mango', 'limon'}\n"
          ]
        }
      ]
    },
    {
      "cell_type": "code",
      "source": [
        "print(my_set)\n",
        "my_set.add('manzana')\n",
        "print(my_set)"
      ],
      "metadata": {
        "id": "nnLRMUt7o55a"
      },
      "execution_count": null,
      "outputs": []
    },
    {
      "cell_type": "code",
      "source": [
        "print(my_set)\n",
        "vegetales = {'tomates','papa','zanahoria'}\n",
        "print(vegetales)\n",
        "my_set.update(vegetales)\n",
        "print(my_set)"
      ],
      "metadata": {
        "id": "9QyDVI82pQsa"
      },
      "execution_count": null,
      "outputs": []
    },
    {
      "cell_type": "code",
      "source": [
        "frutas={'banana', 'mango', 'naranja', 'limon'}\n",
        "print(frutas)\n",
        "print(frutas[0])"
      ],
      "metadata": {
        "id": "2GfclAe_poxJ"
      },
      "execution_count": null,
      "outputs": []
    },
    {
      "cell_type": "code",
      "source": [
        "print('¿existe mango?','mango' in frutas)"
      ],
      "metadata": {
        "id": "lKT2b2nHp9rX"
      },
      "execution_count": null,
      "outputs": []
    },
    {
      "cell_type": "code",
      "source": [
        "print(frutas)\n",
        "frutas.remove(frutas[0])"
      ],
      "metadata": {
        "id": "lZU3xJ4lqQ0v"
      },
      "execution_count": null,
      "outputs": []
    },
    {
      "cell_type": "code",
      "source": [
        "frutas.remove('mango')\n",
        "print(frutas)"
      ],
      "metadata": {
        "id": "x-bduCpwqbS-"
      },
      "execution_count": null,
      "outputs": []
    },
    {
      "cell_type": "code",
      "source": [
        "frutas={'banana', 'mango', 'naranja', 'limon'}\n",
        "vegetales={'banana', 'mango', 'naranja', 'limon'}\n",
        "print(frutas.union(vegetales))"
      ],
      "metadata": {
        "id": "OMVPhgKKqpdi",
        "colab": {
          "base_uri": "https://localhost:8080/"
        },
        "outputId": "47f56366-78f2-41f5-ad28-bb9e7cb33d0d"
      },
      "execution_count": null,
      "outputs": [
        {
          "output_type": "stream",
          "name": "stdout",
          "text": [
            "{'banana', 'mango', 'limon', 'naranja'}\n"
          ]
        }
      ]
    },
    {
      "cell_type": "code",
      "source": [
        "numeros = {0,1,2,3,4,5,6,7,8,9}\n",
        "numeros_pares={0,2,4,6,8,10,12,14,16}\n",
        "print(numeros.intersection(numeros_pares))"
      ],
      "metadata": {
        "id": "-Epxww77rC3z"
      },
      "execution_count": null,
      "outputs": []
    },
    {
      "cell_type": "code",
      "source": [
        "Diccionario"
      ],
      "metadata": {
        "id": "tadNnysprsT-"
      },
      "execution_count": null,
      "outputs": []
    },
    {
      "cell_type": "code",
      "source": [
        "my_dict =dict()\n",
        "other_dict = {}\n",
        "print(type(my_dict))\n",
        "print(type(other_dict))"
      ],
      "metadata": {
        "id": "E03B4E4hsZ8F"
      },
      "execution_count": null,
      "outputs": []
    },
    {
      "cell_type": "code",
      "source": [
        "person = {\n",
        "   'name':'victor',\n",
        "    'last_name':'manuel',\n",
        "    'age':19,\n",
        "    'skills': ['Javascript', 'react', 'python', 'swift'],\n",
        "    'address': {\n",
        "        'street':'fco. I. Madero',\n",
        "        'telefono': 7821840642   \n",
        "        }\n",
        "}"
      ],
      "metadata": {
        "id": "1whNScUdrzOx"
      },
      "execution_count": null,
      "outputs": []
    },
    {
      "cell_type": "code",
      "source": [
        "print(person['name'])\n",
        "print(type(person['name']))\n",
        "\n",
        "print(person['last_name'])\n",
        "print(type(person['last_name']))\n",
        "\n",
        "print(person['skills'])\n",
        "print(type(person['skills']))\n",
        "\n",
        "print(person['address'])\n",
        "print(type(person['address']))\n"
      ],
      "metadata": {
        "id": "zYhLtT7Xtoo0"
      },
      "execution_count": null,
      "outputs": []
    },
    {
      "cell_type": "code",
      "source": [
        "print(person.get('country'))\n",
        "print(person.get('skills'))"
      ],
      "metadata": {
        "id": "p41233oXuvjL"
      },
      "execution_count": null,
      "outputs": []
    },
    {
      "cell_type": "code",
      "source": [
        "print(person)\n",
        "person['country'] = 'poza rica'\n",
        "print(person)"
      ],
      "metadata": {
        "id": "ux39rmnqvAlB"
      },
      "execution_count": null,
      "outputs": []
    },
    {
      "cell_type": "code",
      "source": [
        "print(person)\n",
        "person['last_name'] = 'bautista'\n",
        "print(person)"
      ],
      "metadata": {
        "id": "bT5LSblUvVTE"
      },
      "execution_count": null,
      "outputs": []
    },
    {
      "cell_type": "code",
      "source": [
        "print('name'in person)\n",
        "print('marital.status') in person"
      ],
      "metadata": {
        "id": "t1znAqBZwDSv"
      },
      "execution_count": null,
      "outputs": []
    },
    {
      "cell_type": "code",
      "source": [
        "print(person.keys())"
      ],
      "metadata": {
        "id": "SQcS2gw2wdm8"
      },
      "execution_count": null,
      "outputs": []
    },
    {
      "cell_type": "code",
      "source": [
        "print(person.values())"
      ],
      "metadata": {
        "id": "dhcE_LF3wokB"
      },
      "execution_count": null,
      "outputs": []
    }
  ]
}