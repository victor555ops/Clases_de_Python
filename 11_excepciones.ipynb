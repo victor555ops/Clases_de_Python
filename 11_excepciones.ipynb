{
  "nbformat": 4,
  "nbformat_minor": 0,
  "metadata": {
    "colab": {
      "provenance": [],
      "authorship_tag": "ABX9TyPizyw8u6jXqZuaUqwwmyfC",
      "include_colab_link": true
    },
    "kernelspec": {
      "name": "python3",
      "display_name": "Python 3"
    },
    "language_info": {
      "name": "python"
    }
  },
  "cells": [
    {
      "cell_type": "markdown",
      "metadata": {
        "id": "view-in-github",
        "colab_type": "text"
      },
      "source": [
        "<a href=\"https://colab.research.google.com/github/victor555ops/Clases_de_Python/blob/main/11_excepciones.ipynb\" target=\"_parent\"><img src=\"https://colab.research.google.com/assets/colab-badge.svg\" alt=\"Open In Colab\"/></a>"
      ]
    },
    {
      "cell_type": "code",
      "execution_count": null,
      "metadata": {
        "id": "B7sHVg-w_gjS"
      },
      "outputs": [],
      "source": [
        "try:\n",
        "  Run this code\n",
        "except:\n",
        "  Excuse this code when there is an error\n",
        "else:\n",
        "  Whitout errors? run this code.\n",
        "finally:\n",
        "   Always run this code."
      ]
    },
    {
      "cell_type": "markdown",
      "source": [
        "Ejemplo del error"
      ],
      "metadata": {
        "id": "QAd7Ba7RATAV"
      }
    },
    {
      "cell_type": "code",
      "source": [
        " numberOne = 5\n",
        " numberTwo = 1\n",
        " numberTwo = '1'\n",
        "\n",
        " print(numberOne + numberTwo)"
      ],
      "metadata": {
        "id": "YTGTjy4lAR4-"
      },
      "execution_count": null,
      "outputs": []
    },
    {
      "cell_type": "code",
      "source": [
        "try:\n",
        " print(numberOne + numberTwo)\n",
        " print('Ni hay ningun error')\n",
        "except:\n",
        "  #se ejecuta si se produce una\n",
        "  print('se ejecuta un error')\n"
      ],
      "metadata": {
        "id": "m3V09QMXAx1A"
      },
      "execution_count": null,
      "outputs": []
    },
    {
      "cell_type": "code",
      "source": [
        "#try - except - else (opcional)\n",
        "\n",
        "try:\n",
        "  print(numberOne + numberTwo)\n",
        "  print('Ni hay ningun error')\n",
        "except:\n",
        "  print('se ejecuta un error')\n",
        "else: \n",
        "  print('la ejecucion continua si no se produce ninguna reaccion')\n"
      ],
      "metadata": {
        "id": "7whR_XJ4BOHj"
      },
      "execution_count": null,
      "outputs": []
    },
    {
      "cell_type": "code",
      "source": [
        "numberOne = 1\n",
        "numberTwo = 2\n",
        "numberTwo = '2'\n",
        "\n",
        "try:\n",
        "  print(numberOne + numberTwo)\n",
        "  print('Ni hay ningun error')\n",
        "except:\n",
        "  print('se ha producido un error')\n",
        "else: \n",
        "  print('la ejecucion continua si no se produce ninguna reaccion')\n",
        "finally:\n",
        "  #esto siempre se ejecuta\n",
        "  print('la ejecucion sigue')"
      ],
      "metadata": {
        "id": "Dlwj8Y3NB4gE"
      },
      "execution_count": null,
      "outputs": []
    },
    {
      "cell_type": "code",
      "source": [
        " numberOne = 5\n",
        " numberTwo = 1\n",
        " numberTwo = '1'\n",
        "\n",
        " print(numberOne + numberTwo)"
      ],
      "metadata": {
        "id": "QEMM_G_ZCfPF"
      },
      "execution_count": null,
      "outputs": []
    },
    {
      "cell_type": "code",
      "source": [
        "try:\n",
        "  print(numberOne + numberTwo)\n",
        "  print('No hay ningun error')\n",
        "except TypeError:\n",
        "  print('se ha producido un error')"
      ],
      "metadata": {
        "id": "hmP05Zu1C98u"
      },
      "execution_count": null,
      "outputs": []
    },
    {
      "cell_type": "code",
      "source": [
        "try:\n",
        "  print(numberOne + numberTwo)\n",
        "  print('Ni hay ningun error')\n",
        "except:\n",
        "  print('se ha producido un error')\n",
        "  print('pero ya lo arregle')\n",
        "  fixOne = int(numberOne)\n",
        "  fixTwo = int(numberTwo)\n",
        "  print(fixOne + fixTwo)\n",
        "  "
      ],
      "metadata": {
        "id": "wbllUT2sDT9d"
      },
      "execution_count": null,
      "outputs": []
    },
    {
      "cell_type": "code",
      "source": [
        "try:\n",
        "  print(numberOne + numberTwo)\n",
        "  print('No hay ningun error')\n",
        "except TypeError:\n",
        "  print('se ha producido un TypeError')\n",
        "except ValueError:\n",
        "  print('se ha producido un error de valor')\n"
      ],
      "metadata": {
        "id": "UPqN25FsD5TQ"
      },
      "execution_count": null,
      "outputs": []
    },
    {
      "cell_type": "code",
      "source": [
        " numberOne = 5\n",
        " numberTwo = 1\n",
        " numberTwo = '1'\n",
        "\n",
        " try:\n",
        "  print(numberOne + numberTwo)\n",
        "  print('No hay ningun error')\n",
        "except TypeError as e:\n",
        "  print('e')"
      ],
      "metadata": {
        "id": "2DDzP3yCE3WH"
      },
      "execution_count": null,
      "outputs": []
    }
  ]
}