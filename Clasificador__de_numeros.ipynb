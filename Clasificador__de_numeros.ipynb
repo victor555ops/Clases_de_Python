{
  "nbformat": 4,
  "nbformat_minor": 0,
  "metadata": {
    "colab": {
      "provenance": [],
      "authorship_tag": "ABX9TyPDb47GCIzIOA2ak3v6dO7H",
      "include_colab_link": true
    },
    "kernelspec": {
      "name": "python3",
      "display_name": "Python 3"
    },
    "language_info": {
      "name": "python"
    }
  },
  "cells": [
    {
      "cell_type": "markdown",
      "metadata": {
        "id": "view-in-github",
        "colab_type": "text"
      },
      "source": [
        "<a href=\"https://colab.research.google.com/github/victor555ops/Clases_de_Python/blob/main/Clasificador__de_numeros.ipynb\" target=\"_parent\"><img src=\"https://colab.research.google.com/assets/colab-badge.svg\" alt=\"Open In Colab\"/></a>"
      ]
    },
    {
      "cell_type": "code",
      "execution_count": null,
      "metadata": {
        "id": "50MZyAkubFzA"
      },
      "outputs": [],
      "source": [
        "import tensorflow as tf\n",
        "import tensorflow_datasets as tfds"
      ]
    },
    {
      "cell_type": "code",
      "source": [
        "#Descargar set de datos de MNIST \n",
        "datos, metadatos = tfds.load('mnist', as_supervised=True, with_info=True)"
      ],
      "metadata": {
        "id": "kmYjuWIhf3We"
      },
      "execution_count": null,
      "outputs": []
    },
    {
      "cell_type": "code",
      "source": [
        "#obtener en variables separadas los datos de entrenamiento\n",
        "datos_entrenamiento, datos_pruebas = datos['train'], datos['test'] "
      ],
      "metadata": {
        "id": "FXs39mRKf7LG"
      },
      "execution_count": null,
      "outputs": []
    },
    {
      "cell_type": "code",
      "source": [
        "def normalizar(imagenes, etiquetas):\n",
        "  imagenes=tf.cast(imagenes, tf.float32)\n",
        "  imagenes/=255 #aqui se pasa de 0-255 a 0-1\n",
        "  return imagenes, etiquetas"
      ],
      "metadata": {
        "id": "Easi9ZBtf-DB"
      },
      "execution_count": null,
      "outputs": []
    },
    {
      "cell_type": "code",
      "source": [
        "#Normalizar los datos de entrenamiento con la funcion \n",
        "datos_entrenamiento = datos_entrenamiento.map(normalizar)\n",
        "datos_prueba = datos_pruebas.map(normalizar)"
      ],
      "metadata": {
        "id": "LF2FXrorgALa"
      },
      "execution_count": null,
      "outputs": []
    },
    {
      "cell_type": "code",
      "source": [
        "#Agregar a cache (usar memoriaen lugar de disco, entrenamiento)\n",
        "datos_entrenamiento = datos_entrenamiento.cache()\n",
        "datos_pruebas = datos_pruebas.cache()\n",
        "\n",
        "clases = ['0','1', '2', '3', '4', '5', '6', '7', '8', '9']"
      ],
      "metadata": {
        "id": "45k8kpZkgEKy"
      },
      "execution_count": null,
      "outputs": []
    },
    {
      "cell_type": "code",
      "source": [],
      "metadata": {
        "id": "9IIYuuT1jIyb"
      },
      "execution_count": null,
      "outputs": []
    },
    {
      "cell_type": "code",
      "source": [
        "from keras.api._v2.keras import layers\n",
        "from types import UnionType\n",
        "modelo=tf.keras.Sequential([\n",
        "    tf.keras.layers.Flatten(input_shape=(28,28,1)),\n",
        "    tf.keras.layers.Dense(units=50, activation='relu'),\n",
        "    tf.keras.layers.Dense(units=50, activation='relu'),\n",
        "])"
      ],
      "metadata": {
        "id": "CFbWGwYFhzPT"
      },
      "execution_count": null,
      "outputs": []
    },
    {
      "cell_type": "code",
      "source": [
        "#compilar modelo\n",
        "modelo.compile(\n",
        "    optimizer='adam',\n",
        "    loss=tf.keras.losses.SparseCategoricalCrossentropy(),\n",
        "    metrics=['accuracy']\n",
        ")"
      ],
      "metadata": {
        "id": "azgGAhLZjQ4X"
      },
      "execution_count": null,
      "outputs": []
    },
    {
      "cell_type": "code",
      "source": [
        "#los numeros de datos de entrenamiento\n",
        "num_datos_entrenamiento = metadatos.splits['train'].num_examples\n",
        "num_datos_pruebas = metadatos.splits['test'].num_examples"
      ],
      "metadata": {
        "id": "ZbwGLtGzj_TM"
      },
      "execution_count": null,
      "outputs": []
    },
    {
      "cell_type": "code",
      "source": [
        "#trabajar por lotes\n",
        "TAMANO_LOTE=32"
      ],
      "metadata": {
        "id": "QzdneNmIk19g"
      },
      "execution_count": null,
      "outputs": []
    },
    {
      "cell_type": "code",
      "source": [
        "#shuffle y repeat hacen que los datos esten mezaclados de manera aleatoria \n",
        "#para que el entrenamiento no se aprenda las cosas en orden \n",
        "datos_entrenamiento=datos_entrenamiento.repeat().shuffle(num_datos_entrenamiento).batch(TAMANO_LOTE)\n",
        "datos_pruebas = datos_pruebas.batch(TAMANO_LOTE)"
      ],
      "metadata": {
        "id": "YwMH23rEk-6L"
      },
      "execution_count": null,
      "outputs": []
    },
    {
      "cell_type": "code",
      "source": [
        "#Realizar el entrenamiento\n",
        "\n",
        "import math\n",
        "historical = modelo.fit(\n",
        "    datos_entrenamiento,\n",
        "    epochs = 60,\n",
        "    steps_per_epoch=math.ceil(num_datos_entrenamiento/TAMANO_LOTE)\n",
        ")"
      ],
      "metadata": {
        "id": "cZ66Qg6CmDcw"
      },
      "execution_count": null,
      "outputs": []
    }
  ]
}