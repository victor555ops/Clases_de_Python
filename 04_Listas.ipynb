{
  "nbformat": 4,
  "nbformat_minor": 0,
  "metadata": {
    "colab": {
      "provenance": [],
      "authorship_tag": "ABX9TyOs/7ujEdPMQaPXrGOQElQ6",
      "include_colab_link": true
    },
    "kernelspec": {
      "name": "python3",
      "display_name": "Python 3"
    },
    "language_info": {
      "name": "python"
    }
  },
  "cells": [
    {
      "cell_type": "markdown",
      "metadata": {
        "id": "view-in-github",
        "colab_type": "text"
      },
      "source": [
        "<a href=\"https://colab.research.google.com/github/victor555ops/Clases_de_Python/blob/main/04_Listas.ipynb\" target=\"_parent\"><img src=\"https://colab.research.google.com/assets/colab-badge.svg\" alt=\"Open In Colab\"/></a>"
      ]
    },
    {
      "cell_type": "code",
      "execution_count": null,
      "metadata": {
        "id": "IE6wVCD4dXte"
      },
      "outputs": [],
      "source": [
        "my_list = list()\n",
        "other_list = []\n",
        "\n",
        "print(len(my_list))\n",
        "print(len(other_list))"
      ]
    },
    {
      "cell_type": "code",
      "source": [
        "my_list = [4,5,6,7,8,9]\n",
        "print(my_list)\n",
        "print(type(my_list))\n",
        "print(len(my_list))\n",
        "print(my_list[0])\n",
        "\n",
        "other_list = [1, 2.5, 3, 'vic', 'bautista']\n",
        "print(other_list)\n",
        "print(type(other_list))\n",
        "\n",
        "print(other_list[0])\n",
        "print(other_list[-1])\n",
        "print(other_list[-5])\n"
      ],
      "metadata": {
        "id": "qVVaOU62di59"
      },
      "execution_count": null,
      "outputs": []
    },
    {
      "cell_type": "code",
      "source": [
        "frutas = ['Manzana', 'naranja', 'mango']\n",
        "print(frutas)\n",
        "frutas.append('Manzana')\n",
        "print(frutas)\n",
        "frutas.append('hola')\n",
        "print(frutas)\n",
        "frutas.append(7.5)\n",
        "print(frutas)"
      ],
      "metadata": {
        "id": "AcfvQkhXdtbc"
      },
      "execution_count": null,
      "outputs": []
    },
    {
      "cell_type": "code",
      "source": [
        "other_list = [1, 2.5, 3, 'vic', 'bautista', 'ptra', 'bautista']\n",
        "print(other_list.count('bautista'))"
      ],
      "metadata": {
        "id": "1abQiygqdzzV"
      },
      "execution_count": null,
      "outputs": []
    },
    {
      "cell_type": "code",
      "source": [
        "rutas = ['Manzana', 'naranja', 'mango']\n",
        "print(frutas)\n",
        "frutas.insert(2, 'Aguacate')\n",
        "print(frutas)\n",
        "frutas.insert(4, 'Aguacate')\n",
        "print(frutas)\n",
        "frutas.insert(1, 'Aguacate')\n",
        "print(frutas)"
      ],
      "metadata": {
        "id": "7pis2NESd_M6"
      },
      "execution_count": null,
      "outputs": []
    },
    {
      "cell_type": "markdown",
      "source": [
        "Remover componentes de una lista"
      ],
      "metadata": {
        "id": "wNq2xWJweOtj"
      }
    },
    {
      "cell_type": "code",
      "source": [
        "frutas = ['Manzana', 'naranja', 'mango', 'manzana', 'Manzana']\n",
        "print(frutas)\n",
        "frutas.remove('Manzana')\n",
        "print(frutas)\n",
        "frutas.remove('naranja')\n",
        "print(frutas)\n",
        "frutas.remove(frutas[0])\n",
        "print(frutas)"
      ],
      "metadata": {
        "id": "me63WJDLeCCq"
      },
      "execution_count": null,
      "outputs": []
    },
    {
      "cell_type": "code",
      "source": [
        "positivos = [1, 2, 3, 4]\n",
        "cero = [0]\n",
        "negativos = [-1, -2, -3, -4]\n",
        "enteros = negativos + cero + positivos\n",
        "print(enteros)\n",
        "print(len(enteros))  "
      ],
      "metadata": {
        "id": "VotQjou9eUv0"
      },
      "execution_count": null,
      "outputs": []
    }
  ]
}