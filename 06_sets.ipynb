{
  "nbformat": 4,
  "nbformat_minor": 0,
  "metadata": {
    "colab": {
      "provenance": [],
      "authorship_tag": "ABX9TyNvNzykW2xLImipKjZpEsob",
      "include_colab_link": true
    },
    "kernelspec": {
      "name": "python3",
      "display_name": "Python 3"
    },
    "language_info": {
      "name": "python"
    }
  },
  "cells": [
    {
      "cell_type": "markdown",
      "metadata": {
        "id": "view-in-github",
        "colab_type": "text"
      },
      "source": [
        "<a href=\"https://colab.research.google.com/github/victor555ops/Clases_de_Python/blob/main/06_sets.ipynb\" target=\"_parent\"><img src=\"https://colab.research.google.com/assets/colab-badge.svg\" alt=\"Open In Colab\"/></a>"
      ]
    },
    {
      "cell_type": "code",
      "execution_count": null,
      "metadata": {
        "id": "pS8zY2EQfgGt"
      },
      "outputs": [],
      "source": [
        "my_set = set()\n",
        "other_set = {}\n",
        "print(type(my_set))\n",
        "print(type(other_set))"
      ]
    },
    {
      "cell_type": "code",
      "source": [
        "other_set = {1, 2.4, 3, 'victor', 'bautista', 'santes', 'victor'}\n",
        "print(type(other_set))"
      ],
      "metadata": {
        "id": "-EkQZyW1f3H5"
      },
      "execution_count": null,
      "outputs": []
    },
    {
      "cell_type": "code",
      "source": [
        "my_set = {'banana', 'naranja', 'mango', 'limon'}\n",
        "print(len(my_set))\n",
        "print(my_set)"
      ],
      "metadata": {
        "id": "noWeaPLqgAhD"
      },
      "execution_count": null,
      "outputs": []
    },
    {
      "cell_type": "code",
      "source": [
        "print(my_set)\n",
        "my_set.add('manzana')\n",
        "print(my_set)"
      ],
      "metadata": {
        "id": "cj3bP1yYgGLR"
      },
      "execution_count": null,
      "outputs": []
    },
    {
      "cell_type": "code",
      "source": [
        "print(my_set)\n",
        "vegetales = {'tomate', 'papa', 'zanahoria'}\n",
        "print(vegetales)\n",
        "my_set.update(vegetales)\n",
        "print(my_set)"
      ],
      "metadata": {
        "id": "nFqjliXqgJtY"
      },
      "execution_count": null,
      "outputs": []
    },
    {
      "cell_type": "markdown",
      "source": [
        "no se puede consultar en una posicion como en un array\n",
        "\n",
        "Elemento de lista\n",
        "Elemento de lista"
      ],
      "metadata": {
        "id": "t8_LMCZVgR7T"
      }
    },
    {
      "cell_type": "code",
      "source": [
        "frutas = {'mango', 'manzana', 'uva'}"
      ],
      "metadata": {
        "id": "N2XO4P5SgNu3"
      },
      "execution_count": null,
      "outputs": []
    },
    {
      "cell_type": "code",
      "source": [
        "frutas = {'mango', 'manzana', 'uva'}"
      ],
      "metadata": {
        "id": "DVhA5HRfgV3Z"
      },
      "execution_count": null,
      "outputs": []
    },
    {
      "cell_type": "code",
      "source": [
        "frutas.remove('mango')\n",
        "print(frutas)"
      ],
      "metadata": {
        "id": "iagsfeEmgYot"
      },
      "execution_count": null,
      "outputs": []
    },
    {
      "cell_type": "code",
      "source": [
        "frutas = {'mango', 'manzana', 'uva'}\n",
        "vegetales = {'tomate', 'papa', 'zanahoria'}\n",
        "print(frutas.union(vegetales))"
      ],
      "metadata": {
        "id": "OrdJ2rbhgeP3"
      },
      "execution_count": null,
      "outputs": []
    },
    {
      "cell_type": "code",
      "source": [
        "frutas = {'mango', 'manzana', 'uva'}\n",
        "vegetales = {'tomate', 'papa', 'zanahoria'}\n",
        "print(frutas.union(vegetales))"
      ],
      "metadata": {
        "id": "qQJQXu7uggNE"
      },
      "execution_count": null,
      "outputs": []
    }
  ]
}